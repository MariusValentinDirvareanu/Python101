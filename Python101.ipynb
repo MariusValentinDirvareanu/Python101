{
 "metadata": {
  "language_info": {
   "codemirror_mode": {
    "name": "ipython",
    "version": 3
   },
   "file_extension": ".py",
   "mimetype": "text/x-python",
   "name": "python",
   "nbconvert_exporter": "python",
   "pygments_lexer": "ipython3",
   "version": "3.9.0-final"
  },
  "orig_nbformat": 2,
  "kernelspec": {
   "name": "python3",
   "display_name": "Python 3.9.0 64-bit",
   "metadata": {
    "interpreter": {
     "hash": "eae8805b7a60ca00ec391bf13e71294753b9bf81b6b5d55c56d2d16aa9c3e739"
    }
   }
  }
 },
 "nbformat": 4,
 "nbformat_minor": 2,
 "cells": [
  {
   "cell_type": "code",
   "execution_count": 1,
   "metadata": {},
   "outputs": [],
   "source": [
    "#Comentariu"
   ]
  },
  {
   "cell_type": "code",
   "execution_count": 2,
   "metadata": {},
   "outputs": [
    {
     "output_type": "stream",
     "name": "stdout",
     "text": [
      "3/2= 1.5\n3//2= 1\n3+2= 5\n3-2= 1\n3*2= 6\n3**2= 9\n3**(1/2)= 1.7320508075688772\n"
     ]
    }
   ],
   "source": [
    "print(\"3/2=\",3/2)\n",
    "print(\"3//2=\",3//2)\n",
    "print(\"3+2=\",3+2)\n",
    "print(\"3-2=\",3-2)\n",
    "print(\"3*2=\",3*2)\n",
    "print(\"3**2=\",3**2)\n",
    "print(\"3**(1/2)=\",3**(1/2))"
   ]
  },
  {
   "cell_type": "code",
   "execution_count": null,
   "metadata": {},
   "outputs": [],
   "source": []
  }
 ]
}