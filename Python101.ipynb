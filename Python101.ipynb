{
 "metadata": {
  "language_info": {
   "codemirror_mode": {
    "name": "ipython",
    "version": 3
   },
   "file_extension": ".py",
   "mimetype": "text/x-python",
   "name": "python",
   "nbconvert_exporter": "python",
   "pygments_lexer": "ipython3",
   "version": "3.9.0-final"
  },
  "orig_nbformat": 2,
  "kernelspec": {
   "name": "python3",
   "display_name": "Python 3.9.0 64-bit",
   "metadata": {
    "interpreter": {
     "hash": "eae8805b7a60ca00ec391bf13e71294753b9bf81b6b5d55c56d2d16aa9c3e739"
    }
   }
  }
 },
 "nbformat": 4,
 "nbformat_minor": 2,
 "cells": [
  {
   "cell_type": "code",
   "execution_count": 138,
   "metadata": {},
   "outputs": [],
   "source": [
    "# Comentariu"
   ]
  },
  {
   "cell_type": "code",
   "execution_count": 139,
   "metadata": {},
   "outputs": [
    {
     "output_type": "stream",
     "name": "stdout",
     "text": [
      "3/2= 1.5\n3//2= 1\n3+2= 5\n3-2= 1\n3*2= 6\n3**2= 9\n3**(1/2)= 1.7320508075688772\n3%2= 1\n"
     ]
    }
   ],
   "source": [
    "# Operatii aritmetice\n",
    "print(\"3/2=\",3/2)\n",
    "print(\"3//2=\",3//2)\n",
    "print(\"3+2=\",3+2)\n",
    "print(\"3-2=\",3-2)\n",
    "print(\"3*2=\",3*2)\n",
    "print(\"3**2=\",3**2)\n",
    "print(\"3**(1/2)=\",3**(1/2))\n",
    "print(\"3%2=\",3%2)"
   ]
  },
  {
   "cell_type": "code",
   "execution_count": 140,
   "metadata": {},
   "outputs": [
    {
     "output_type": "stream",
     "name": "stdout",
     "text": [
      "5\n"
     ]
    }
   ],
   "source": [
    "# Declarare variabile\n",
    "a=3\n",
    "b=2\n",
    "print(a+b)"
   ]
  },
  {
   "cell_type": "code",
   "execution_count": 141,
   "metadata": {},
   "outputs": [
    {
     "output_type": "stream",
     "name": "stdout",
     "text": [
      "3 este mai mare decat 2\n"
     ]
    }
   ],
   "source": [
    "# Control flow\n",
    "a=3\n",
    "b=2\n",
    "if a>b:\n",
    "    print(f\"{a} este mai mare decat {b}\")\n",
    "elif a==b:\n",
    "    print(\"{0} este egal cu {1}\".format(a,b))\n",
    "else:\n",
    "    print(a,\"este mai mic decat\",b)"
   ]
  },
  {
   "cell_type": "code",
   "execution_count": 142,
   "metadata": {},
   "outputs": [
    {
     "output_type": "stream",
     "name": "stdout",
     "text": [
      "0 1 2 3 4 5 6 7 8 9 \n",
      "\n",
      "c\n",
      "u\n",
      "v\n",
      "a\n",
      "n\n",
      "t\n"
     ]
    }
   ],
   "source": [
    "# Loops\n",
    "for i in range(0,10):\n",
    "    print(i,end=\" \")\n",
    "print('\\n')\n",
    "cuvant=\"cuvant\"\n",
    "for j in cuvant:\n",
    "    print(j)"
   ]
  },
  {
   "cell_type": "code",
   "execution_count": 143,
   "metadata": {},
   "outputs": [
    {
     "output_type": "stream",
     "name": "stdout",
     "text": [
      "0\n1\n2\n3\n4\n5\n6\n7\n8\n9\n"
     ]
    }
   ],
   "source": [
    "# Loops\n",
    "i=0\n",
    "while i<10:\n",
    "    print(i)\n",
    "    i+=1"
   ]
  },
  {
   "cell_type": "code",
   "execution_count": 144,
   "metadata": {},
   "outputs": [
    {
     "output_type": "stream",
     "name": "stdout",
     "text": [
      "0\n1\n2\n3\n4\n5\n6\n7\n8\n9\ni din else este  10\n"
     ]
    }
   ],
   "source": [
    "# Loops with else\n",
    "i=0\n",
    "while i<10:\n",
    "    print(i)\n",
    "    i+=1\n",
    "else:\n",
    "    print(\"i din else este \",i)"
   ]
  },
  {
   "cell_type": "code",
   "execution_count": 145,
   "metadata": {},
   "outputs": [
    {
     "output_type": "stream",
     "name": "stdout",
     "text": [
      "3\n"
     ]
    }
   ],
   "source": [
    "def adunare(x,y):\n",
    "    return x+y\n",
    "\n",
    "print(adunare(1,2))"
   ]
  },
  {
   "cell_type": "code",
   "execution_count": 146,
   "metadata": {},
   "outputs": [
    {
     "output_type": "stream",
     "name": "stdout",
     "text": [
      "Ceva de afisat\n"
     ]
    }
   ],
   "source": [
    "def scriere():\n",
    "    print(\"Ceva de afisat\")\n",
    "\n",
    "scriere()"
   ]
  },
  {
   "cell_type": "code",
   "execution_count": 147,
   "metadata": {},
   "outputs": [
    {
     "output_type": "stream",
     "name": "stdout",
     "text": [
      "Acesta este un string (sir de caractere)\n",
      "A\n"
     ]
    }
   ],
   "source": [
    "# Structuri de date\n",
    "# String\n",
    "q=\"Acesta este un string (sir de caractere)\"\n",
    "print(q)\n",
    "print(q[0])"
   ]
  },
  {
   "cell_type": "code",
   "execution_count": 148,
   "metadata": {},
   "outputs": [
    {
     "output_type": "stream",
     "name": "stdout",
     "text": [
      "[1, 'cuvant', 2]\n1\n"
     ]
    }
   ],
   "source": [
    "# Structuri de date\n",
    "# List\n",
    "lista=[1,\"cuvant\",2]\n",
    "print(lista)\n",
    "print(lista[0])"
   ]
  },
  {
   "cell_type": "code",
   "execution_count": 149,
   "metadata": {},
   "outputs": [
    {
     "output_type": "stream",
     "name": "stdout",
     "text": [
      "(1, 2, 'trei')\n2\n"
     ]
    }
   ],
   "source": [
    "# Structuri de date\n",
    "# Tupels\n",
    "tup = (1,2,\"trei\")\n",
    "print(tup)\n",
    "print(tup[1])"
   ]
  },
  {
   "cell_type": "code",
   "execution_count": 150,
   "metadata": {},
   "outputs": [
    {
     "output_type": "stream",
     "name": "stdout",
     "text": [
      "{1, 2, 3, 4, 5, 6}\n",
      "{1, 2, 3, 4, 5, 6, 10}\n"
     ]
    }
   ],
   "source": [
    "# Structuri de date\n",
    "# Sets\n",
    "set1 = set([1, 2, 4, 4, 3, 3, 3, 6, 5]) \n",
    "print(set1) \n",
    "set1.add(10)\n",
    "print(set1)"
   ]
  },
  {
   "cell_type": "code",
   "execution_count": 151,
   "metadata": {},
   "outputs": [
    {
     "output_type": "stream",
     "name": "stdout",
     "text": [
      "{1: 'Unu', 2: 'Doi', 3: 'Trei'}\n",
      "Unu\n",
      "Doi\n",
      "Trei\n"
     ]
    }
   ],
   "source": [
    "# Structuri de date\n",
    "# Dictionary\n",
    "Dict = {1: 'Unu', 2: 'Doi', 3: 'Trei'} \n",
    "print(Dict)\n",
    "print(Dict[1])\n",
    "print(Dict[2])\n",
    "print(Dict[3])"
   ]
  },
  {
   "cell_type": "code",
   "execution_count": 153,
   "metadata": {},
   "outputs": [
    {
     "output_type": "stream",
     "name": "stdout",
     "text": [
      "Muuuuu\nClasa Animal s-a instantiat cu Relu si 1\nVarsta animalului este: 2\n"
     ]
    }
   ],
   "source": [
    "class Animal:\n",
    "    def __init__(self,nume,varsta):\n",
    "        self.nume=nume\n",
    "        self.varsta=varsta\n",
    "        print(f\"Clasa Animal s-a instantiat cu {self.nume} si {self.varsta}\")\n",
    "\n",
    "    def sunetAnimal():\n",
    "        print(\"Muuuuu\")\n",
    "\n",
    "    @staticmethod\n",
    "    def varsataAnimal(x):\n",
    "        print(\"Varsta animalului este:\",x)\n",
    "\n",
    "\n",
    "# Constructor default\n",
    "animal=Animal\n",
    "animal.sunetAnimal()\n",
    "# Constructor overloading\n",
    "animal2=Animal(\"Relu\",1)\n",
    "# metoda statica\n",
    "Animal.varsataAnimal(2)"
   ]
  },
  {
   "cell_type": "code",
   "execution_count": 155,
   "metadata": {},
   "outputs": [
    {
     "output_type": "stream",
     "name": "stdout",
     "text": [
      "Tom de 2 ani de culoare maro face meaw\ntest de 2 ani de culoare maro face meaw\n"
     ]
    }
   ],
   "source": [
    "class Cat(Animal):\n",
    "    def __init__(self,nume,varsta,culoare):\n",
    "        self.nume=nume\n",
    "        self.varsta=varsta\n",
    "        self.culoare=culoare\n",
    "\n",
    "    def meaw(self):\n",
    "        print(f\"{self.nume} de {self.varsta} ani de culoare {self.culoare} face meaw\")\n",
    "       \n",
    "    def sunetAnimal(self):\n",
    "        print(\"Meaw\")\n",
    "\n",
    "pisica=Cat(\"Tom\",2,\"maro\")\n",
    "pisica.meaw()"
   ]
  },
  {
   "cell_type": "code",
   "execution_count": null,
   "metadata": {},
   "outputs": [],
   "source": []
  }
 ]
}